{
 "cells": [
  {
   "cell_type": "markdown",
   "metadata": {},
   "source": [
    "\n",
    "Assumptions:\n",
    "- isentropic compression and expansion\n",
    "- Instantaneous combustion yielding equilibrium composition\n",
    "- No reaction during the rest of the cycle\n",
    "\n",
    "Numbering:\n",
    "- BDC, prior compression: State 1\n",
    "- TDC, after compression, before combustion: State 2\n",
    "- TDC, after combustion: State 3\n",
    "- BDC, after power stroke: State 4\n",
    "\n"
   ]
  },
  {
   "cell_type": "code",
   "execution_count": 21,
   "metadata": {},
   "outputs": [
    {
     "name": "stdout",
     "output_type": "stream",
     "text": [
      "Gas Constant R: 8314.46 [J kmol^-1 K^-1]\n"
     ]
    }
   ],
   "source": [
    "# Import Cantera and Numpy\n",
    "import cantera as ct\n",
    "import numpy as np\n",
    "\n",
    "# Check to make sure Cantera was loaded in correctly\n",
    "print(\"Gas Constant R: {:.2f} [J kmol^-1 K^-1]\".format(ct.gas_constant))\n"
   ]
  },
  {
   "cell_type": "markdown",
   "metadata": {},
   "source": [
    "# Input parameters and geometry\n",
    "Some useful equations:\n",
    "$$ V_{BDC} = V_{TDC} + V_{stroke}$$\n",
    "$$ \\textrm{Compression Ratio} = r = \\frac{V_{BDC}}{V_{TDC}}$$\n",
    "$$ V_{stroke} = A_{cyl} L_{stroke} $$"
   ]
  },
  {
   "cell_type": "code",
   "execution_count": 7,
   "metadata": {},
   "outputs": [],
   "source": [
    "\n",
    "# Geometry parameter (bore, stroke, compression ratio\n",
    "Bore = 0\n",
    "Stroke = 0\n",
    "r = 0\n",
    "\n",
    "# Top Dead Center volume\n",
    "VTDC = 0\n",
    "# Bottom Dead Center volume\n",
    "VBDC = 0\n",
    "\n",
    "# Standard air\n",
    "XO2_air = 0.21\n",
    "XN2_air = 0.79\n",
    "\n",
    "# Ideal gas constant (mole basis, J/mol.K)\n",
    "Rmol = 8.314 \n",
    "\n",
    "# Combustion chemistry model for gas composition\n",
    "gas = ct.Solution('GRI30.yaml')\n",
    "\n",
    "# Mass flow rate of propane [kg/s]\n",
    "mflowrate = 0\n",
    "\n"
   ]
  },
  {
   "cell_type": "markdown",
   "metadata": {},
   "source": [
    " # State 1 - end of intake, prior to compression stroke\n",
    " Some helpful equations:\n",
    "\n",
    " $$ Y_i = X_i \\frac{M_i}{M_{mix}}$$\n",
    " $$ M_{mix} = \\sum_{i}^{N=Ns} M_i X_i$$\n",
    "\n",
    "where $M_i$ is the molar mass of species $i$ and $M_{mix}$ is the molar mass of the mixture\n",
    "\n",
    "Equivalence ratio:\n",
    "$$ \\phi = \\frac{\\bigg (X_{C3H8} / X_{O2}\\bigg )} {\\bigg (X_{C3H8} / X_{O2} \\bigg)_{st}}$$\n"
   ]
  },
  {
   "cell_type": "code",
   "execution_count": 18,
   "metadata": {},
   "outputs": [
    {
     "name": "stdout",
     "output_type": "stream",
     "text": [
      "T1: 500.00 [K]\n",
      "P1: 0.00 [Bar]\n"
     ]
    }
   ],
   "source": [
    "# Temperature [K] (estimated)\n",
    "T1 = 500\n",
    "\n",
    "# Equivalence ratio [no unit]\n",
    "phi = 0\n",
    "\n",
    "# Gas composition [mole fraction, no unit]\n",
    "XO2 = 0\n",
    "XC3H8 = 0\n",
    "XN2 = 0\n",
    "\n",
    "# Store those values at the proper location\n",
    "iC3H8 = gas.species_index(\"C3H8\")\n",
    "iO2 = gas.species_index(\"O2\")\n",
    "iN2 = gas.species_index(\"N2\")\n",
    "\n",
    "gas.X[iC3H8] = XC3H8\n",
    "gas.X[iO2] = XO2\n",
    "gas.X[iN2] = XN2\n",
    "\n",
    "X1 = gas.X\n",
    "\n",
    "# Mass of fuel in cylinder\n",
    "mC3H8 = 0\n",
    "\n",
    "# Pressure at the end of intake stroke (requires some intermediate steps)\n",
    "# Molar mass of gas mixture inside cylinder\n",
    "MM_C3H8 = 0\n",
    "MM_O2 = 0\n",
    "MM_N2 = 0\n",
    "MM_mix = 1\n",
    "\n",
    "# Mass fractions of propane, O2 and N2\n",
    "YC3H8 = 0\n",
    "YO2 = 0\n",
    "YN2 = 0\n",
    "\n",
    "# Total mass of gas in cylinder\n",
    "m = 0\n",
    "\n",
    "# Density in cylinder\n",
    "rho = 0\n",
    "\n",
    "# and finally, pressure at state 1\n",
    "P1 = rho * T1 * Rmol / MM_mix\n",
    "\n",
    "print(\"T1: {:.2f} [K]\".format(T1))\n",
    "print(\"P1: {:.2f} [Bar]\".format(P1 * 1e-5))\n"
   ]
  },
  {
   "cell_type": "markdown",
   "metadata": {},
   "source": [
    "# State 2 - end of compression stroke, prior combustion\n",
    "\n",
    "The composition has not changed since we are not considering any\n",
    "chemistry during the compression and power strokes.\n",
    "\n",
    "The gas object allows you to set the gas mixture to a given state, and calculate\n",
    "useful thermodynamic properties. For example:\n",
    " \n",
    "gas.TPX = T1, P1, X1\n",
    "cp = gas.cp_mass\n",
    "\n",
    "gives you the specific heat capacity at constant pressure of the gas \n",
    "mixture with mole fractions specified in X, at a temperature T1 and a \n",
    "pressure P1. You can replace cp by cv to get the one at constant volume,\n",
    "or replace mass by mole to get the corresponding molar quantities.\n",
    "\n",
    "Remember that the compression stroke is an isentropic process! Some useful isentropic relations for an ideal gas:\n",
    "$$ \\frac{P2}{P1} = \\bigg(  \\frac{V1}{V2} \\bigg)^\\gamma$$\n",
    "\n",
    "$$ \\frac{T2}{T1} = \\bigg(  \\frac{V1}{V2} \\bigg)^{(\\gamma -1 )}$$"
   ]
  },
  {
   "cell_type": "code",
   "execution_count": null,
   "metadata": {},
   "outputs": [],
   "source": [
    "gas.TP = T1, P1\n",
    "X2 = X1\n",
    "\n",
    "# Calculate P2 and T2 using isentropic relations\n",
    "cp = gas.cp_mass\n",
    "cv = gas.cv_mass\n",
    "gamma = cp / cv\n",
    "\n",
    "V1 = VBDC\n",
    "V2 = VTDC\n",
    "\n",
    "P2 = P1 * (V1 / V2) ^ (gamma)\n",
    "T2 = T1 * (V1 / V2) ^ (gamma - 1)\n"
   ]
  },
  {
   "cell_type": "markdown",
   "metadata": {},
   "source": [
    "# State 3 - end of combustion process, assuming equilibrium"
   ]
  },
  {
   "cell_type": "code",
   "execution_count": null,
   "metadata": {},
   "outputs": [],
   "source": [
    "\n",
    "# Set the gas to the state just before combustion\n",
    "gas.TPX = T2, P2, X2\n",
    "\n",
    "# Obtain the equilibrium composition, temperature and pressure after\n",
    "# combustion using Cantera fancy tool (technically corresponds to the\n",
    "# minimization of Gibbs free energy for the mixture, if that is of interest)\n",
    "gas.equilibrate('UV')\n",
    "\n",
    "# Recover temperature, pressure and composition\n",
    "T3 = gas.T\n",
    "P3 = gas.P\n",
    "X3 = gas.X\n"
   ]
  },
  {
   "cell_type": "markdown",
   "metadata": {},
   "source": [
    "# State 4 - end of the power stroke"
   ]
  },
  {
   "cell_type": "code",
   "execution_count": null,
   "metadata": {},
   "outputs": [],
   "source": [
    "# Apply isentropic relations to get the state of the system after the power\n",
    "# stroke.\n",
    "T4 = 0\n",
    "P4 = 0\n",
    "X4 = X3"
   ]
  },
  {
   "cell_type": "markdown",
   "metadata": {},
   "source": [
    "# Cycle analysis\n",
    "\n",
    "$$ \\eta_{therm} = \\frac{W_{net}} {Q_{in}} = \\frac{Q_{2-3} + Q_{4-1}} {Q_{2-3}} = 1 + \\frac{ Q_{4-1}} {Q_{2-3}}$$ \n",
    "\n",
    "$$Q_{2-3} = m c_v (T_3 - T_2)$$\n"
   ]
  },
  {
   "cell_type": "code",
   "execution_count": 20,
   "metadata": {},
   "outputs": [
    {
     "name": "stdout",
     "output_type": "stream",
     "text": [
      "Thermal Efficiency: 0.00 %\n"
     ]
    }
   ],
   "source": [
    "eta = 0\n",
    "\n",
    "print(\"Thermal Efficiency: {:.2f} %\".format(eta*100))\n"
   ]
  }
 ],
 "metadata": {
  "kernelspec": {
   "display_name": "Python 3.10.6 ('ct-env')",
   "language": "python",
   "name": "python3"
  },
  "language_info": {
   "codemirror_mode": {
    "name": "ipython",
    "version": 3
   },
   "file_extension": ".py",
   "mimetype": "text/x-python",
   "name": "python",
   "nbconvert_exporter": "python",
   "pygments_lexer": "ipython3",
   "version": "3.10.6"
  },
  "orig_nbformat": 4,
  "vscode": {
   "interpreter": {
    "hash": "e450b8ffe25e793419aa1c45e46514cc4dfbd57c92bd0ec35e3b6c978ae0b874"
   }
  }
 },
 "nbformat": 4,
 "nbformat_minor": 2
}
